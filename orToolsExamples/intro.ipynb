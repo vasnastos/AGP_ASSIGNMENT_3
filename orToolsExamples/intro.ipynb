{
 "metadata": {
  "language_info": {
   "codemirror_mode": {
    "name": "ipython",
    "version": 3
   },
   "file_extension": ".py",
   "mimetype": "text/x-python",
   "name": "python",
   "nbconvert_exporter": "python",
   "pygments_lexer": "ipython3",
   "version": "3.9.5"
  },
  "orig_nbformat": 2,
  "kernelspec": {
   "name": "python395jvsc74a57bd08b33bfb9107f40619c48ce69ba1618b2bb141527518e5cd1954133afa48c2bd1",
   "display_name": "Python 3.9.5 64-bit ('PythonSoftwareFoundation.Python.3.9_qbz5n2kfra8p0')"
  },
  "metadata": {
   "interpreter": {
    "hash": "8b33bfb9107f40619c48ce69ba1618b2bb141527518e5cd1954133afa48c2bd1"
   }
  }
 },
 "nbformat": 4,
 "nbformat_minor": 2,
 "cells": [
  {
   "source": [
    "__Επίλυση του προβλήματος:__\n",
    "\n",
    "x + y + z = 19\n",
    "\n",
    "x + y = 15\n",
    "\n",
    "x != y\n",
    "\n",
    "z < y\n",
    "\n",
    "9 >= x >= 1\n",
    "\n",
    "8 > y >= 0\n",
    "\n",
    "10 >= z >= 3\n",
    "\n",
    "x, y, z ∈ __Z__\n",
    "\n",
    "x = ? y = ? z = ?\n",
    "\n"
   ],
   "cell_type": "markdown",
   "metadata": {}
  },
  {
   "cell_type": "code",
   "execution_count": 1,
   "metadata": {},
   "outputs": [],
   "source": [
    "# ORtool CpSat επιλυτής\n",
    "from ortools.sat.python import cp_model\n",
    "# Μοντέλο\n",
    "model = cp_model.CpModel()"
   ]
  },
  {
   "cell_type": "code",
   "execution_count": 2,
   "metadata": {},
   "outputs": [],
   "source": [
    "# ΜΕΤΑΒΛΗΤΕΣ ΑΠΟΦΑΣΗΣ\n",
    "# x = ? y = ? z = ? -> x, y, z Μεταβλητές απόφασης (Decision Variables)\n",
    "# 9 >= x >= 1 -> Πεδίο ορισμού (Domain) της x [1, 9]\n",
    "# 8 > y >= 0 -> Πεδίο ορισμού (Domain) της y [0, 7]\n",
    "# 10 >= z >= 3 -> Πεδίο ορισμού (Domain) της z [3, 10]\n",
    "# x, y, z ∈ Z -> Οι μεταβλητές απόφασης είναι ακέραιες\n",
    "x = model.NewIntVar(1, 9, \"x\")\n",
    "y = model.NewIntVar(0, 7, \"y\")\n",
    "z = model.NewIntVar(3, 10, \"z\")\n"
   ]
  },
  {
   "cell_type": "code",
   "execution_count": null,
   "metadata": {},
   "outputs": [],
   "source": [
    "# ΠΕΡΙΟΡΙΣΜΟΙ\n",
    "# x + y + z = 19\n",
    "# x + y = 15\n",
    "# x != y\n",
    "# z < y\n",
    "model.Add(x + y + z == 19)\n",
    "model.Add(x + y == 15)\n",
    "model.Add(x != y)\n",
    "model.Add(z < y)"
   ]
  },
  {
   "cell_type": "code",
   "execution_count": 3,
   "metadata": {},
   "outputs": [],
   "source": [
    "# Κλήση του επιλυτή\n",
    "solver = cp_model.CpSolver()\n",
    "status = solver.Solve(model)"
   ]
  },
  {
   "cell_type": "code",
   "execution_count": null,
   "metadata": {},
   "outputs": [],
   "source": [
    "# Εκτύπωση του αποτελέσματος\n",
    "if status == cp_model.OPTIMAL:\n",
    "    print(\"X = \", solver.Value(x))\n",
    "    print(\"Y = \", solver.Value(y))\n",
    "    print(\"Z = \", solver.Value(z))"
   ]
  },
  {
   "cell_type": "code",
   "execution_count": 2,
   "metadata": {},
   "outputs": [
    {
     "output_type": "stream",
     "name": "stdout",
     "text": [
      "X =  9\nY =  6\nZ =  4\n"
     ]
    }
   ],
   "source": [
    "# ΟΛΟΚΛΗΡΩΜΕΝΟ ΠΡΟΓΡΑΜΜΑ\n",
    "\n",
    "# ORtool CpSat επιλυτής\n",
    "from ortools.sat.python import cp_model\n",
    "# Μοντέλο\n",
    "model = cp_model.CpModel()\n",
    "\n",
    "# ΜΕΤΑΒΛΗΤΕΣ ΑΠΟΦΑΣΗΣ\n",
    "# x = ? y = ? z = ? -> x, y, z Μεταβλητές απόφασης (Decision Variables)\n",
    "# 9 >= x >= 1 -> Πεδίο ορισμού (Domain) της x [1, 9]\n",
    "# 8 > y >= 0 -> Πεδίο ορισμού (Domain) της y [0, 7]\n",
    "# 10 >= z >= 3 -> Πεδίο ορισμού (Domain) της z [3, 10]\n",
    "# x, y, z ∈ Z -> Οι μεταβλητές απόφασης είναι ακέραιες\n",
    "x = model.NewIntVar(1, 9, \"x\")\n",
    "y = model.NewIntVar(0, 7, \"y\")\n",
    "z = model.NewIntVar(3, 10, \"z\")\n",
    "\n",
    "# ΠΕΡΙΟΡΙΣΜΟΙ\n",
    "# x + y + z = 19\n",
    "# x + y = 15\n",
    "# x != y\n",
    "# z < y\n",
    "model.Add(x + y + z == 19)\n",
    "model.Add(x + y == 15)\n",
    "model.Add(x != y)\n",
    "model.Add(z < y)\n",
    "\n",
    "# Κλήση του επιλυτή\n",
    "solver = cp_model.CpSolver()\n",
    "status = solver.Solve(model)\n",
    "\n",
    "# Εκτύπωση του αποτελέσματος\n",
    "if status == cp_model.OPTIMAL:\n",
    "    print(\"X = \", solver.Value(x))\n",
    "    print(\"Y = \", solver.Value(y))\n",
    "    print(\"Z = \", solver.Value(z))"
   ]
  },
  {
   "cell_type": "code",
   "execution_count": null,
   "metadata": {},
   "outputs": [],
   "source": []
  }
 ]
}