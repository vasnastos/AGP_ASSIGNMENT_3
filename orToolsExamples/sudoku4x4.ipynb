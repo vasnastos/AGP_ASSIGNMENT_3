{
 "metadata": {
  "language_info": {
   "codemirror_mode": {
    "name": "ipython",
    "version": 3
   },
   "file_extension": ".py",
   "mimetype": "text/x-python",
   "name": "python",
   "nbconvert_exporter": "python",
   "pygments_lexer": "ipython3",
   "version": "3.9.5"
  },
  "orig_nbformat": 2,
  "kernelspec": {
   "name": "python395jvsc74a57bd08b33bfb9107f40619c48ce69ba1618b2bb141527518e5cd1954133afa48c2bd1",
   "display_name": "Python 3.9.5 64-bit ('PythonSoftwareFoundation.Python.3.9_qbz5n2kfra8p0')"
  },
  "metadata": {
   "interpreter": {
    "hash": "8b33bfb9107f40619c48ce69ba1618b2bb141527518e5cd1954133afa48c2bd1"
   }
  }
 },
 "nbformat": 4,
 "nbformat_minor": 2,
 "cells": [
  {
   "source": [
    "# Επίλυση sudoku 4x4\n",
    "![img](https://raw.githubusercontent.com/vasnastos/DITUOI_AGP_SUDOKU/main/RESOURCES/Screenshot_1.png?token=APD2HAPSLSYLQXF4YJWKHDTAW6XHI)"
   ],
   "cell_type": "markdown",
   "metadata": {}
  },
  {
   "cell_type": "code",
   "execution_count": 4,
   "metadata": {},
   "outputs": [
    {
     "output_type": "stream",
     "name": "stdout",
     "text": [
      "1 2 3 4\n3 4 1 2\n2 1 4 3\n4 3 2 1\n"
     ]
    }
   ],
   "source": [
    "\n",
    "\n",
    "# ORtool CpSat επιλυτής\n",
    "from ortools.sat.python import cp_model\n",
    "\n",
    "# Μοντέλο\n",
    "model = cp_model.CpModel()\n",
    "\n",
    "# Μεταβλητές απόφασης\n",
    "cells = dict()\n",
    "range4 = range(0, 4)\n",
    "\n",
    "for row in range4:\n",
    "    for column in range4:\n",
    "        cells[row, column] = model.NewIntVar(1, 4, f\"cell{row}{column}\")\n",
    "\n",
    "# Περιορισμοί\n",
    "# Ήδη συμπληρωμένα κελιά\n",
    "model.Add(cells[0, 1] == 2)\n",
    "model.Add(cells[0, 2] == 3)\n",
    "model.Add(cells[1, 0] == 3)\n",
    "model.Add(cells[2, 1] == 1)\n",
    "model.Add(cells[3, 2] == 2)\n",
    "\n",
    "## Όλα τα κελιά σε κάθε γραμμή έχουν διαφορετική τιμή\n",
    "for row in range4:\n",
    "    model.AddAllDifferent(cells[row, column] for column in range4)\n",
    "\n",
    "## Όλα τα κελιά σε κάθε στήλη έχουν διαφορετική τιμή\n",
    "for column in range4:\n",
    "    model.AddAllDifferent(cells[row, column] for row in range4)\n",
    "for rowid in range(0,4,2):\n",
    "    for colid in range(0,4,2):\n",
    "        model.AddAllDifferent([cells[i,j] for j in range(colid,(colid+2)) for i in range(rowid,(rowid+2))])\n",
    "\n",
    "# Κλήση του επιλυτή\n",
    "solver = cp_model.CpSolver()\n",
    "status = solver.Solve(model)\n",
    "\n",
    "# Εκτύπωση του αποτελέσματος\n",
    "if status == cp_model.OPTIMAL:\n",
    "    for row in range4:\n",
    "        print(\n",
    "            solver.Value(cells[row, 0]),\n",
    "            solver.Value(cells[row, 1]),\n",
    "            solver.Value(cells[row, 2]),\n",
    "            solver.Value(cells[row, 3]),\n",
    "        )\n"
   ]
  },
  {
   "cell_type": "code",
   "execution_count": null,
   "metadata": {},
   "outputs": [],
   "source": []
  }
 ]
}