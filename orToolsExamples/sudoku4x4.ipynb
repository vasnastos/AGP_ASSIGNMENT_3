{
 "cells": [
  {
   "cell_type": "markdown",
   "metadata": {},
   "source": [
    "# Επίλυση sudoku 4x4\n",
    "![img](https://raw.githubusercontent.com/vasnastos/DITUOI_AGP_SUDOKU/main/RESOURCES/Screenshot_1.png?token=APD2HAPSLSYLQXF4YJWKHDTAW6XHI)"
   ]
  },
  {
   "cell_type": "code",
   "execution_count": 2,
   "metadata": {},
   "outputs": [
    {
     "output_type": "stream",
     "name": "stdout",
     "text": [
      "1234341221434321\n"
     ]
    }
   ],
   "source": [
    "# ORtool CpSat επιλυτής\n",
    "from ortools.sat.python import cp_model\n",
    "\n",
    "\n",
    "def SolveSudoku4x4(sudokuString):\n",
    "\n",
    "    # Μοντέλο\n",
    "    model = cp_model.CpModel()\n",
    "\n",
    "    # Μεταβλητές απόφασης\n",
    "    cells = dict()\n",
    "\n",
    "    range4 = range(0, 4)\n",
    "\n",
    "    for row in range4:\n",
    "        for column in range4:\n",
    "            cells[row, column] = model.NewIntVar(1, 4, f\"cell{row}{column}\")\n",
    "\n",
    "    # Περιορισμοί\n",
    "    # Ήδη συμπληρωμένα κελιά\n",
    "    for row in range4:\n",
    "        for column in range4:\n",
    "            cellString = sudokuString[row * 4 + column]\n",
    "            if cellString != \"0\":\n",
    "                model.Add(cells[row, column] == int(cellString))\n",
    "\n",
    "    ## Όλα τα κελιά σε κάθε γραμμή έχουν διαφορετική τιμή\n",
    "    for row in range4:\n",
    "        model.AddAllDifferent(cells[row, column] for column in range4)\n",
    "\n",
    "    ## Όλα τα κελιά σε κάθε στήλη έχουν διαφορετική τιμή\n",
    "    for column in range4:\n",
    "        model.AddAllDifferent(cells[row, column] for row in range4)\n",
    "\n",
    "    ## Όλα τα κελιά σε κάθε εσωτερικό τετράγωνο έχουν διαφορετική τιμή\n",
    "    for rowid in range(0, 4, 2):\n",
    "        for colid in range(0, 4, 2):\n",
    "            model.AddAllDifferent(\n",
    "                [\n",
    "                    cells[i, j]\n",
    "                    for j in range(colid, (colid + 2))\n",
    "                    for i in range(rowid, (rowid + 2))\n",
    "                ]\n",
    "            )\n",
    "\n",
    "    # Κλήση του επιλυτή\n",
    "    solver = cp_model.CpSolver()\n",
    "    status = solver.Solve(model)\n",
    "\n",
    "    # Εκτύπωση του αποτελέσματος\n",
    "    solution = \"\"\n",
    "    if status == cp_model.OPTIMAL:\n",
    "        for row in range4:\n",
    "            for column in range4:\n",
    "                solution = solution + str(solver.Value(cells[row, column]))\n",
    "    return solution\n",
    "\n",
    "\n",
    "if __name__ == \"__main__\":\n",
    "    sudoku = \"02303000010000200\"\n",
    "    solution = SolveSudoku4x4(sudoku)\n",
    "    print(solution)\n"
   ]
  },
  {
   "cell_type": "code",
   "execution_count": null,
   "metadata": {},
   "outputs": [],
   "source": []
  }
 ],
 "metadata": {
  "language_info": {
   "version": "3.9.5"
  },
  "orig_nbformat": 3,
  "kernelspec": {
   "name": "python395jvsc74a57bd08b33bfb9107f40619c48ce69ba1618b2bb141527518e5cd1954133afa48c2bd1",
   "display_name": "Python 3.9.5 64-bit ('PythonSoftwareFoundation.Python.3.9_qbz5n2kfra8p0')"
  },
  "metadata": {
   "interpreter": {
    "hash": "8b33bfb9107f40619c48ce69ba1618b2bb141527518e5cd1954133afa48c2bd1"
   }
  }
 },
 "nbformat": 4,
 "nbformat_minor": 2
}