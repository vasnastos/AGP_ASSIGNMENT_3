{
 "cells": [
  {
   "cell_type": "markdown",
   "metadata": {},
   "source": [
    "# Επίλυση sudoku 4x4\n",
    "![img](https://raw.githubusercontent.com/vasnastos/DITUOI_AGP_SUDOKU/main/RESOURCES/Screenshot_1.png?token=APD2HAPSLSYLQXF4YJWKHDTAW6XHI)"
   ]
  },
  {
   "cell_type": "code",
   "execution_count": 4,
   "metadata": {},
   "outputs": [
    {
     "name": "stdout",
     "output_type": "stream",
     "text": [
      "1 2 3 4\n",
      "3 4 1 2\n",
      "2 1 4 3\n",
      "4 3 2 1\n"
     ]
    }
   ],
   "source": [
    "\r\n",
    "\r\n",
    "# ORtool CpSat επιλυτής\r\n",
    "from ortools.sat.python import cp_model\r\n",
    "\r\n",
    "# Μοντέλο\r\n",
    "model = cp_model.CpModel()\r\n",
    "\r\n",
    "# Μεταβλητές απόφασης\r\n",
    "cells = dict()\r\n",
    "range4 = range(0, 4)\r\n",
    "\r\n",
    "for row in range4:\r\n",
    "    for column in range4:\r\n",
    "        cells[row, column] = model.NewIntVar(1, 4, f\"cell{row}{column}\")\r\n",
    "\r\n",
    "# Περιορισμοί\r\n",
    "# Ήδη συμπληρωμένα κελιά\r\n",
    "model.Add(cells[0, 1] == 2)\r\n",
    "model.Add(cells[0, 2] == 3)\r\n",
    "model.Add(cells[1, 0] == 3)\r\n",
    "model.Add(cells[2, 1] == 1)\r\n",
    "model.Add(cells[3, 2] == 2)\r\n",
    "\r\n",
    "## Όλα τα κελιά σε κάθε γραμμή έχουν διαφορετική τιμή\r\n",
    "for row in range4:\r\n",
    "    model.AddAllDifferent(cells[row, column] for column in range4)\r\n",
    "\r\n",
    "## Όλα τα κελιά σε κάθε στήλη έχουν διαφορετική τιμή\r\n",
    "for column in range4:\r\n",
    "    model.AddAllDifferent(cells[row, column] for row in range4)\r\n",
    "\r\n",
    "## Όλα τα κελιά σε κάθε εσωτερικό τετράγωνο έχουν διαφορετική τιμή\r\n",
    "for rowid in range(0,4,2):\r\n",
    "    for colid in range(0,4,2):\r\n",
    "        model.AddAllDifferent([cells[i,j] for j in range(colid,(colid+2)) for i in range(rowid,(rowid+2))])\r\n",
    "\r\n",
    "# Κλήση του επιλυτή\r\n",
    "solver = cp_model.CpSolver()\r\n",
    "status = solver.Solve(model)\r\n",
    "\r\n",
    "# Εκτύπωση του αποτελέσματος\r\n",
    "if status == cp_model.OPTIMAL:\r\n",
    "    for row in range4:\r\n",
    "        print(\r\n",
    "            solver.Value(cells[row, 0]),\r\n",
    "            solver.Value(cells[row, 1]),\r\n",
    "            solver.Value(cells[row, 2]),\r\n",
    "            solver.Value(cells[row, 3]),\r\n",
    "        )\r\n"
   ]
  },
  {
   "cell_type": "code",
   "execution_count": null,
   "metadata": {},
   "outputs": [],
   "source": []
  }
 ],
 "metadata": {
  "language_info": {},
  "orig_nbformat": 3
 },
 "nbformat": 4,
 "nbformat_minor": 2
}