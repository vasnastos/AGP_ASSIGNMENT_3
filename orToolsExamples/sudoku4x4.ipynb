{
 "cells": [
  {
   "cell_type": "markdown",
   "metadata": {},
   "source": [
    "# Επίλυση sudoku 4x4\n",
    "![img](https://raw.githubusercontent.com/vasnastos/DITUOI_AGP_SUDOKU/main/RESOURCES/Screenshot_1.png?token=APD2HAPSLSYLQXF4YJWKHDTAW6XHI)"
   ]
  },
  {
   "cell_type": "code",
   "execution_count": 4,
   "metadata": {},
   "outputs": [
    {
     "name": "stdout",
     "output_type": "stream",
     "text": [
      "1 2 3 4\n",
      "3 4 1 2\n",
      "2 1 4 3\n",
      "4 3 2 1\n"
     ]
    }
   ],
   "source": [
    "# ORtool CpSat επιλυτής\r\n",
    "from ortools.sat.python import cp_model\r\n",
    "\r\n",
    "\r\n",
    "def SolveSudoku4x4(sudokuString):\r\n",
    "\r\n",
    "    # Μοντέλο\r\n",
    "    model = cp_model.CpModel()\r\n",
    "\r\n",
    "    # Μεταβλητές απόφασης\r\n",
    "    cells = dict()\r\n",
    "\r\n",
    "    range4 = range(0, 4)\r\n",
    "\r\n",
    "    for row in range4:\r\n",
    "        for column in range4:\r\n",
    "            cells[row, column] = model.NewIntVar(1, 4, f\"cell{row}{column}\")\r\n",
    "\r\n",
    "    # Περιορισμοί\r\n",
    "    # Ήδη συμπληρωμένα κελιά\r\n",
    "    for row in range4:\r\n",
    "        for column in range4:\r\n",
    "            cellString = sudokuString[row * 4 + column]\r\n",
    "            if cellString != \"0\":\r\n",
    "                model.Add(cells[row, column] == int(cellString))\r\n",
    "\r\n",
    "    ## Όλα τα κελιά σε κάθε γραμμή έχουν διαφορετική τιμή\r\n",
    "    for row in range4:\r\n",
    "        model.AddAllDifferent(cells[row, column] for column in range4)\r\n",
    "\r\n",
    "    ## Όλα τα κελιά σε κάθε στήλη έχουν διαφορετική τιμή\r\n",
    "    for column in range4:\r\n",
    "        model.AddAllDifferent(cells[row, column] for row in range4)\r\n",
    "\r\n",
    "    ## Όλα τα κελιά σε κάθε εσωτερικό τετράγωνο έχουν διαφορετική τιμή\r\n",
    "    for rowid in range(0, 4, 2):\r\n",
    "        for colid in range(0, 4, 2):\r\n",
    "            model.AddAllDifferent(\r\n",
    "                [\r\n",
    "                    cells[i, j]\r\n",
    "                    for j in range(colid, (colid + 2))\r\n",
    "                    for i in range(rowid, (rowid + 2))\r\n",
    "                ]\r\n",
    "            )\r\n",
    "\r\n",
    "    # Κλήση του επιλυτή\r\n",
    "    solver = cp_model.CpSolver()\r\n",
    "    status = solver.Solve(model)\r\n",
    "\r\n",
    "    # Εκτύπωση του αποτελέσματος\r\n",
    "    solution = \"\"\r\n",
    "    if status == cp_model.OPTIMAL:\r\n",
    "        for row in range4:\r\n",
    "            for column in range4:\r\n",
    "                solution = solution + str(solver.Value(cells[row, column]))\r\n",
    "    return solution\r\n",
    "\r\n",
    "\r\n",
    "if __name__ == \"__main__\":\r\n",
    "    sudoku = \"02303000010000200\"\r\n",
    "    solution = SolveSudoku4x4(sudoku)\r\n",
    "    print(solution)\r\n"
   ]
  },
  {
   "cell_type": "code",
   "execution_count": null,
   "metadata": {},
   "outputs": [],
   "source": []
  }
 ],
 "metadata": {
  "language_info": {},
  "orig_nbformat": 3
 },
 "nbformat": 4,
 "nbformat_minor": 2
}