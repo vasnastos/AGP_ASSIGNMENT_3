{
 "metadata": {
  "language_info": {
   "codemirror_mode": {
    "name": "ipython",
    "version": 3
   },
   "file_extension": ".py",
   "mimetype": "text/x-python",
   "name": "python",
   "nbconvert_exporter": "python",
   "pygments_lexer": "ipython3",
   "version": "3.9.5"
  },
  "orig_nbformat": 2,
  "kernelspec": {
   "name": "python395jvsc74a57bd08b33bfb9107f40619c48ce69ba1618b2bb141527518e5cd1954133afa48c2bd1",
   "display_name": "Python 3.9.5 64-bit ('PythonSoftwareFoundation.Python.3.9_qbz5n2kfra8p0')"
  },
  "metadata": {
   "interpreter": {
    "hash": "8b33bfb9107f40619c48ce69ba1618b2bb141527518e5cd1954133afa48c2bd1"
   }
  }
 },
 "nbformat": 4,
 "nbformat_minor": 2,
 "cells": [
  {
   "source": [
    "# Επίλυση latin squares 3 x 3\n",
    "# 3|Χ|Χ\n",
    "# 1|Χ|2\n",
    "# Χ|Χ|3"
   ],
   "cell_type": "code",
   "metadata": {},
   "execution_count": null,
   "outputs": []
  },
  {
   "cell_type": "code",
   "execution_count": null,
   "metadata": {},
   "outputs": [],
   "source": [
    "# ORtool CpSat επιλυτής\n",
    "from ortools.sat.python import cp_model"
   ]
  },
  {
   "cell_type": "code",
   "execution_count": null,
   "metadata": {},
   "outputs": [],
   "source": [
    "# Μοντέλο\n",
    "model = cp_model.CpModel()"
   ]
  },
  {
   "source": [
    "# Μεταβλητές απόφασης\n",
    "cell00 = model.NewIntVar(1, 3, \"cell00\")\n",
    "cell01 = model.NewIntVar(1, 3, \"cell01\")\n",
    "cell02 = model.NewIntVar(1, 3, \"cell02\")\n",
    "cell10 = model.NewIntVar(1, 3, \"cell10\")\n",
    "cell11 = model.NewIntVar(1, 3, \"cell11\")\n",
    "cell12 = model.NewIntVar(1, 3, \"cell12\")\n",
    "cell20 = model.NewIntVar(1, 3, \"cell20\")\n",
    "cell21 = model.NewIntVar(1, 3, \"cell21\")\n",
    "cell22 = model.NewIntVar(1, 3, \"cell22\")"
   ],
   "cell_type": "code",
   "metadata": {},
   "execution_count": null,
   "outputs": []
  },
  {
   "cell_type": "code",
   "execution_count": null,
   "metadata": {},
   "outputs": [],
   "source": [
    "# Περιορισμοί\n",
    "# Ήδη συμπληρωμένα κελιά\n",
    "model.Add(cell00 == 3)\n",
    "model.Add(cell10 == 1)\n",
    "model.Add(cell12 == 2)\n",
    "model.Add(cell22 == 3)"
   ]
  },
  {
   "cell_type": "code",
   "execution_count": null,
   "metadata": {},
   "outputs": [],
   "source": [
    "## Γραμμή 1\n",
    "model.Add(cell00 != cell01)\n",
    "model.Add(cell00 != cell02)\n",
    "model.Add(cell01 != cell02)\n",
    "\n",
    "## Γραμμή 2\n",
    "model.Add(cell10 != cell11)\n",
    "model.Add(cell10 != cell12)\n",
    "model.Add(cell11 != cell12)\n",
    "\n",
    "## Γραμμή 3\n",
    "model.Add(cell20 != cell21)\n",
    "model.Add(cell20 != cell22)\n",
    "model.Add(cell21 != cell22)\n",
    "\n",
    "## Στήλη 1\n",
    "model.Add(cell00 != cell10)\n",
    "model.Add(cell00 != cell20)\n",
    "model.Add(cell10 != cell20)\n",
    "\n",
    "## Στήλη 2\n",
    "model.Add(cell01 != cell11)\n",
    "model.Add(cell01 != cell21)\n",
    "model.Add(cell11 != cell21)\n",
    "\n",
    "## Στήλη 3\n",
    "model.Add(cell02 != cell12)\n",
    "model.Add(cell02 != cell22)\n",
    "model.Add(cell12 != cell22)"
   ]
  },
  {
   "cell_type": "code",
   "execution_count": null,
   "metadata": {},
   "outputs": [],
   "source": [
    "# Κλήση του επιλυτή\n",
    "solver = cp_model.CpSolver()\n",
    "status = solver.Solve(model)"
   ]
  },
  {
   "cell_type": "code",
   "execution_count": null,
   "metadata": {},
   "outputs": [],
   "source": [
    "# Εκτύπωση του αποτελέσματος\n",
    "if status == cp_model.OPTIMAL:\n",
    "    print(solver.Value(cell00), solver.Value(cell01), solver.Value(cell02))\n",
    "    print(solver.Value(cell10), solver.Value(cell11), solver.Value(cell12))\n",
    "    print(solver.Value(cell20), solver.Value(cell21), solver.Value(cell22))"
   ]
  },
  {
   "cell_type": "code",
   "execution_count": 1,
   "metadata": {},
   "outputs": [
    {
     "output_type": "stream",
     "name": "stdout",
     "text": [
      "3 2 1\n1 3 2\n2 1 3\n"
     ]
    }
   ],
   "source": [
    "# Επίλυση latin squares 3 x 3\n",
    "# 3|Χ|Χ\n",
    "# 1|Χ|2\n",
    "# Χ|Χ|3\n",
    "\n",
    "# ORtool CpSat επιλυτής\n",
    "from ortools.sat.python import cp_model\n",
    "\n",
    "# Μοντέλο\n",
    "model = cp_model.CpModel()\n",
    "\n",
    "# Μεταβλητές απόφασης\n",
    "cell00 = model.NewIntVar(1, 3, \"cell00\")\n",
    "cell01 = model.NewIntVar(1, 3, \"cell01\")\n",
    "cell02 = model.NewIntVar(1, 3, \"cell02\")\n",
    "cell10 = model.NewIntVar(1, 3, \"cell10\")\n",
    "cell11 = model.NewIntVar(1, 3, \"cell11\")\n",
    "cell12 = model.NewIntVar(1, 3, \"cell12\")\n",
    "cell20 = model.NewIntVar(1, 3, \"cell20\")\n",
    "cell21 = model.NewIntVar(1, 3, \"cell21\")\n",
    "cell22 = model.NewIntVar(1, 3, \"cell22\")\n",
    "\n",
    "# Περιορισμοί\n",
    "# Ήδη συμπληρωμένα κελιά\n",
    "model.Add(cell00 == 3)\n",
    "model.Add(cell10 == 1)\n",
    "model.Add(cell12 == 2)\n",
    "model.Add(cell22 == 3)\n",
    "\n",
    "## Γραμμή 1\n",
    "model.Add(cell00 != cell01)\n",
    "model.Add(cell00 != cell02)\n",
    "model.Add(cell01 != cell02)\n",
    "\n",
    "## Γραμμή 2\n",
    "model.Add(cell10 != cell11)\n",
    "model.Add(cell10 != cell12)\n",
    "model.Add(cell11 != cell12)\n",
    "\n",
    "## Γραμμή 3\n",
    "model.Add(cell20 != cell21)\n",
    "model.Add(cell20 != cell22)\n",
    "model.Add(cell21 != cell22)\n",
    "\n",
    "## Στήλη 1\n",
    "model.Add(cell00 != cell10)\n",
    "model.Add(cell00 != cell20)\n",
    "model.Add(cell10 != cell20)\n",
    "\n",
    "## Στήλη 2\n",
    "model.Add(cell01 != cell11)\n",
    "model.Add(cell01 != cell21)\n",
    "model.Add(cell11 != cell21)\n",
    "\n",
    "## Στήλη 3\n",
    "model.Add(cell02 != cell12)\n",
    "model.Add(cell02 != cell22)\n",
    "model.Add(cell12 != cell22)\n",
    "\n",
    "# Κλήση του επιλυτή\n",
    "solver = cp_model.CpSolver()\n",
    "status = solver.Solve(model)\n",
    "\n",
    "# Εκτύπωση του αποτελέσματος\n",
    "if status == cp_model.OPTIMAL:\n",
    "    print(solver.Value(cell00), solver.Value(cell01), solver.Value(cell02))\n",
    "    print(solver.Value(cell10), solver.Value(cell11), solver.Value(cell12))\n",
    "    print(solver.Value(cell20), solver.Value(cell21), solver.Value(cell22))"
   ]
  },
  {
   "source": [
    "# Code with style"
   ],
   "cell_type": "markdown",
   "metadata": {}
  },
  {
   "source": [
    "# ORtool CpSat επιλυτής\n",
    "from ortools.sat.python import cp_model\n",
    "\n",
    "# Μοντέλο\n",
    "model = cp_model.CpModel()\n",
    "\n",
    "# Μεταβλητές απόφασης\n",
    "cells = dict()\n",
    "range3 = range(0, 3)\n",
    "\n",
    "for row in range3:\n",
    "    for column in range3:\n",
    "        cells[row, column] = model.NewIntVar(1, 3, f\"cell{row}{column}\")\n",
    "\n",
    "# Περιορισμοί\n",
    "# Ήδη συμπληρωμένα κελιά\n",
    "model.Add(cells[0, 0] == 3)\n",
    "model.Add(cells[1, 0] == 1)\n",
    "model.Add(cells[1, 2] == 2)\n",
    "model.Add(cells[2, 2] == 3)\n",
    "\n",
    "## Όλα τα κελιά σε κάθε γραμμή έχουν διαφορετική τιμή\n",
    "for row in range3:\n",
    "    model.AddAllDifferent(cells[row, column] for column in range3)\n",
    "\n",
    "## Όλα τα κελιά σε κάθε στήλη έχουν διαφορετική τιμή\n",
    "for column in range3:\n",
    "    model.AddAllDifferent(cells[row, column] for row in range3)\n",
    "\n",
    "# Κλήση του επιλυτή\n",
    "solver = cp_model.CpSolver()\n",
    "status = solver.Solve(model)\n",
    "\n",
    "# Εκτύπωση του αποτελέσματος\n",
    "if status == cp_model.OPTIMAL:\n",
    "    for row in range3:\n",
    "        print(\n",
    "            solver.Value(cells[row, 0]),\n",
    "            solver.Value(cells[row, 1]),\n",
    "            solver.Value(cells[row, 2]),\n",
    "        )\n"
   ],
   "cell_type": "code",
   "metadata": {},
   "execution_count": 2,
   "outputs": [
    {
     "output_type": "stream",
     "name": "stdout",
     "text": [
      "3 2 1\n1 3 2\n2 1 3\n"
     ]
    }
   ]
  },
  {
   "cell_type": "code",
   "execution_count": null,
   "metadata": {},
   "outputs": [],
   "source": []
  }
 ]
}