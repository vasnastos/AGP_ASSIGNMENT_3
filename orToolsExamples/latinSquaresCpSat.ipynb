{
 "metadata": {
  "language_info": {
   "codemirror_mode": {
    "name": "ipython",
    "version": 3
   },
   "file_extension": ".py",
   "mimetype": "text/x-python",
   "name": "python",
   "nbconvert_exporter": "python",
   "pygments_lexer": "ipython3",
   "version": "3.9.5"
  },
  "orig_nbformat": 2,
  "kernelspec": {
   "name": "python395jvsc74a57bd08b33bfb9107f40619c48ce69ba1618b2bb141527518e5cd1954133afa48c2bd1",
   "display_name": "Python 3.9.5 64-bit ('PythonSoftwareFoundation.Python.3.9_qbz5n2kfra8p0')"
  },
  "metadata": {
   "interpreter": {
    "hash": "8b33bfb9107f40619c48ce69ba1618b2bb141527518e5cd1954133afa48c2bd1"
   }
  }
 },
 "nbformat": 4,
 "nbformat_minor": 2,
 "cells": [
  {
   "source": [
    "# Επίλυση latin squares 3 x 3\n",
    "# 3|Χ|Χ\n",
    "# 1|Χ|2\n",
    "# Χ|Χ|3"
   ],
   "cell_type": "code",
   "metadata": {},
   "execution_count": null,
   "outputs": []
  },
  {
   "cell_type": "code",
   "execution_count": null,
   "metadata": {},
   "outputs": [],
   "source": [
    "# ORtool CpSat επιλυτής\n",
    "from ortools.sat.python import cp_model"
   ]
  },
  {
   "cell_type": "code",
   "execution_count": null,
   "metadata": {},
   "outputs": [],
   "source": [
    "# Μοντέλο\n",
    "model = cp_model.CpModel()"
   ]
  },
  {
   "source": [
    "# Μεταβλητές απόφασης\n",
    "cell11 = model.NewIntVar(1, 3, \"cell11\")\n",
    "cell12 = model.NewIntVar(1, 3, \"cell12\")\n",
    "cell13 = model.NewIntVar(1, 3, \"cell13\")\n",
    "cell21 = model.NewIntVar(1, 3, \"cell21\")\n",
    "cell22 = model.NewIntVar(1, 3, \"cell22\")\n",
    "cell23 = model.NewIntVar(1, 3, \"cell23\")\n",
    "cell31 = model.NewIntVar(1, 3, \"cell31\")\n",
    "cell32 = model.NewIntVar(1, 3, \"cell32\")\n",
    "cell33 = model.NewIntVar(1, 3, \"cell33\")"
   ],
   "cell_type": "code",
   "metadata": {},
   "execution_count": null,
   "outputs": []
  },
  {
   "cell_type": "code",
   "execution_count": null,
   "metadata": {},
   "outputs": [],
   "source": [
    "# Περιορισμοί\n",
    "# Ήδη συμπληρωμένα κελιά\n",
    "model.Add(cell11 == 3)\n",
    "model.Add(cell21 == 1)\n",
    "model.Add(cell23 == 2)\n",
    "model.Add(cell33 == 3)"
   ]
  },
  {
   "cell_type": "code",
   "execution_count": null,
   "metadata": {},
   "outputs": [],
   "source": [
    "## Γραμμή 1\n",
    "model.Add(cell11 != cell12)\n",
    "model.Add(cell11 != cell13)\n",
    "model.Add(cell12 != cell13)\n",
    "\n",
    "## Γραμμή 2\n",
    "model.Add(cell21 != cell22)\n",
    "model.Add(cell21 != cell23)\n",
    "model.Add(cell22 != cell23)\n",
    "\n",
    "## Γραμμή 3\n",
    "model.Add(cell31 != cell32)\n",
    "model.Add(cell31 != cell33)\n",
    "model.Add(cell32 != cell33)\n",
    "\n",
    "## Στήλη 1\n",
    "model.Add(cell11 != cell21)\n",
    "model.Add(cell11 != cell31)\n",
    "model.Add(cell21 != cell31)\n",
    "\n",
    "## Στήλη 2\n",
    "model.Add(cell12 != cell22)\n",
    "model.Add(cell12 != cell32)\n",
    "model.Add(cell22 != cell32)\n",
    "\n",
    "## Στήλη 3\n",
    "model.Add(cell13 != cell23)\n",
    "model.Add(cell13 != cell33)\n",
    "model.Add(cell23 != cell33)"
   ]
  },
  {
   "cell_type": "code",
   "execution_count": null,
   "metadata": {},
   "outputs": [],
   "source": [
    "# Κλήση του επιλυτή\n",
    "solver = cp_model.CpSolver()\n",
    "status = solver.Solve(model)"
   ]
  },
  {
   "cell_type": "code",
   "execution_count": null,
   "metadata": {},
   "outputs": [],
   "source": [
    "# Εκτύπωση του αποτελέσματος\n",
    "if status == cp_model.OPTIMAL:\n",
    "    print(solver.Value(cell11), solver.Value(cell12), solver.Value(cell13))\n",
    "    print(solver.Value(cell21), solver.Value(cell22), solver.Value(cell23))\n",
    "    print(solver.Value(cell31), solver.Value(cell32), solver.Value(cell33))"
   ]
  },
  {
   "cell_type": "code",
   "execution_count": 2,
   "metadata": {},
   "outputs": [
    {
     "output_type": "stream",
     "name": "stdout",
     "text": [
      "3 2 1\n1 3 2\n2 1 3\n"
     ]
    }
   ],
   "source": [
    "# ORtool CpSat επιλυτής\n",
    "from ortools.sat.python import cp_model\n",
    "\n",
    "# Μοντέλο\n",
    "model = cp_model.CpModel()\n",
    "\n",
    "# Μεταβλητές απόφασης\n",
    "cell11 = model.NewIntVar(1, 3, \"cell11\")\n",
    "cell12 = model.NewIntVar(1, 3, \"cell12\")\n",
    "cell13 = model.NewIntVar(1, 3, \"cell13\")\n",
    "cell21 = model.NewIntVar(1, 3, \"cell21\")\n",
    "cell22 = model.NewIntVar(1, 3, \"cell22\")\n",
    "cell23 = model.NewIntVar(1, 3, \"cell23\")\n",
    "cell31 = model.NewIntVar(1, 3, \"cell31\")\n",
    "cell32 = model.NewIntVar(1, 3, \"cell32\")\n",
    "cell33 = model.NewIntVar(1, 3, \"cell33\")\n",
    "\n",
    "# Περιορισμοί\n",
    "# Ήδη συμπληρωμένα κελιά\n",
    "model.Add(cell11 == 3)\n",
    "model.Add(cell21 == 1)\n",
    "model.Add(cell23 == 2)\n",
    "model.Add(cell33 == 3)\n",
    "\n",
    "## Γραμμή 1\n",
    "model.Add(cell11 != cell12)\n",
    "model.Add(cell11 != cell13)\n",
    "model.Add(cell12 != cell13)\n",
    "\n",
    "## Γραμμή 2\n",
    "model.Add(cell21 != cell22)\n",
    "model.Add(cell21 != cell23)\n",
    "model.Add(cell22 != cell23)\n",
    "\n",
    "## Γραμμή 3\n",
    "model.Add(cell31 != cell32)\n",
    "model.Add(cell31 != cell33)\n",
    "model.Add(cell32 != cell33)\n",
    "\n",
    "## Στήλη 1\n",
    "model.Add(cell11 != cell21)\n",
    "model.Add(cell11 != cell31)\n",
    "model.Add(cell21 != cell31)\n",
    "\n",
    "## Στήλη 2\n",
    "model.Add(cell12 != cell22)\n",
    "model.Add(cell12 != cell32)\n",
    "model.Add(cell22 != cell32)\n",
    "\n",
    "## Στήλη 3\n",
    "model.Add(cell13 != cell23)\n",
    "model.Add(cell13 != cell33)\n",
    "model.Add(cell23 != cell33)\n",
    "\n",
    "# Κλήση του επιλυτή\n",
    "solver = cp_model.CpSolver()\n",
    "status = solver.Solve(model)\n",
    "\n",
    "# Εκτύπωση του αποτελέσματος\n",
    "if status == cp_model.OPTIMAL:\n",
    "    print(solver.Value(cell11), solver.Value(cell12), solver.Value(cell13))\n",
    "    print(solver.Value(cell21), solver.Value(cell22), solver.Value(cell23))\n",
    "    print(solver.Value(cell31), solver.Value(cell32), solver.Value(cell33))\n"
   ]
  },
  {
   "source": [
    "# Code with style"
   ],
   "cell_type": "markdown",
   "metadata": {}
  },
  {
   "source": [
    "# ORtool CpSat επιλυτής\n",
    "from ortools.sat.python import cp_model\n",
    "\n",
    "# Μοντέλο\n",
    "model = cp_model.CpModel()\n",
    "\n",
    "# Μεταβλητές απόφασης\n",
    "cells = dict()\n",
    "range3 = range(1, 4)\n",
    "\n",
    "for row in range3:\n",
    "    for column in range3:\n",
    "        cells[row, column] = model.NewIntVar(1, 3, f\"cell{row}{column}\")\n",
    "\n",
    "# Περιορισμοί\n",
    "# Ήδη συμπληρωμένα κελιά\n",
    "model.Add(cells[1, 1] == 3)\n",
    "model.Add(cells[2, 1] == 1)\n",
    "model.Add(cells[2, 3] == 2)\n",
    "model.Add(cells[3, 3] == 3)\n",
    "\n",
    "## Όλα τα κελιά σε κάθε γραμμή έχουν διαφορετική τιμή\n",
    "for row in range3:\n",
    "    model.AddAllDifferent(cells[row, column] for column in range3)\n",
    "\n",
    "## Όλα τα κελιά σε κάθε στήλη έχουν διαφορετική τιμή\n",
    "for column in range3:\n",
    "    model.AddAllDifferent(cells[row, column] for row in range3)\n",
    "\n",
    "# Κλήση του επιλυτή\n",
    "solver = cp_model.CpSolver()\n",
    "status = solver.Solve(model)\n",
    "\n",
    "# Εκτύπωση του αποτελέσματος\n",
    "if status == cp_model.OPTIMAL:\n",
    "    for row in range3:\n",
    "        print(\n",
    "            solver.Value(cells[row, 1]),\n",
    "            solver.Value(cells[row, 2]),\n",
    "            solver.Value(cells[row, 3]),\n",
    "        )\n"
   ],
   "cell_type": "code",
   "metadata": {},
   "execution_count": 1,
   "outputs": [
    {
     "output_type": "stream",
     "name": "stdout",
     "text": [
      "3 2 1\n1 3 2\n2 1 3\n"
     ]
    }
   ]
  },
  {
   "cell_type": "code",
   "execution_count": null,
   "metadata": {},
   "outputs": [],
   "source": []
  }
 ]
}